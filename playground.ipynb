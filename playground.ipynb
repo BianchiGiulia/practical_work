{
 "cells": [
  {
   "cell_type": "code",
   "execution_count": 1,
   "metadata": {},
   "outputs": [],
   "source": [
    "#disabe annoying warnings\n",
    "import warnings\n",
    "warnings.filterwarnings('ignore')\n",
    "\n",
    "#imports\n",
    "import numpy as np\n",
    "import pandas as pd\n",
    "import seaborn as sns\n",
    "import matplotlib.pyplot as plt\n",
    "from scipy import stats\n",
    "from scipy.sparse import csr_matrix, coo_matrix , save_npz, load_npz, find\n",
    "from scipy.sparse.linalg import svds\n",
    "from sklearn.model_selection import train_test_split\n",
    "from sklearn.metrics.pairwise import cosine_similarity\n",
    "from sklearn.preprocessing import MinMaxScaler, MaxAbsScaler, StandardScaler\n",
    "\n",
    "#utils\n",
    "import evaluations as evals\n",
    "import rec_sys as rs"
   ]
  },
  {
   "cell_type": "code",
   "execution_count": 18,
   "metadata": {},
   "outputs": [
    {
     "data": {
      "text/plain": [
       "(22093, 8858)"
      ]
     },
     "execution_count": 18,
     "metadata": {},
     "output_type": "execute_result"
    }
   ],
   "source": [
    "b_train_matrix = load_npz('b_train_matrix_15.npz')\n",
    "b_test_matrix = load_npz('b_test_matrix_15.npz')\n",
    "n_train_matrix = load_npz('n_train_matrix_15.npz')\n",
    "n_test_matrix = load_npz('n_test_matrix_15.npz')\n",
    "b_test_matrix.shape"
   ]
  },
  {
   "cell_type": "code",
   "execution_count": 19,
   "metadata": {},
   "outputs": [],
   "source": [
    "b_train_matrix = b_train_matrix[:100, :100]\n",
    "b_test_matrix = b_test_matrix[:100, :100]\n",
    "n_test_matrix = n_test_matrix[:100, :100]\n",
    "n_train_matrix = n_train_matrix[:100, :100]"
   ]
  },
  {
   "attachments": {},
   "cell_type": "markdown",
   "metadata": {},
   "source": [
    "# EVAL"
   ]
  },
  {
   "cell_type": "code",
   "execution_count": 20,
   "metadata": {},
   "outputs": [
    {
     "name": "stdout",
     "output_type": "stream",
     "text": [
      "pop_baseline : done\n",
      "itembased_rs : done\n",
      "userbased_rs : done\n",
      "svd_recommend_to_list : done\n"
     ]
    },
    {
     "data": {
      "text/html": [
       "<div>\n",
       "<style scoped>\n",
       "    .dataframe tbody tr th:only-of-type {\n",
       "        vertical-align: middle;\n",
       "    }\n",
       "\n",
       "    .dataframe tbody tr th {\n",
       "        vertical-align: top;\n",
       "    }\n",
       "\n",
       "    .dataframe thead th {\n",
       "        text-align: right;\n",
       "    }\n",
       "</style>\n",
       "<table border=\"1\" class=\"dataframe\">\n",
       "  <thead>\n",
       "    <tr style=\"text-align: right;\">\n",
       "      <th></th>\n",
       "      <th>RecFunction</th>\n",
       "      <th>Precision@k</th>\n",
       "      <th>Recall@k</th>\n",
       "      <th>NDCG@k</th>\n",
       "      <th>F1@k</th>\n",
       "    </tr>\n",
       "  </thead>\n",
       "  <tbody>\n",
       "    <tr>\n",
       "      <th>0</th>\n",
       "      <td>pop_baseline</td>\n",
       "      <td>0.011111</td>\n",
       "      <td>0.111111</td>\n",
       "      <td>0.111111</td>\n",
       "      <td>0.020202</td>\n",
       "    </tr>\n",
       "    <tr>\n",
       "      <th>1</th>\n",
       "      <td>itembased_rs</td>\n",
       "      <td>0.011111</td>\n",
       "      <td>0.111111</td>\n",
       "      <td>0.055556</td>\n",
       "      <td>0.020202</td>\n",
       "    </tr>\n",
       "    <tr>\n",
       "      <th>2</th>\n",
       "      <td>userbased_rs</td>\n",
       "      <td>0.000000</td>\n",
       "      <td>0.000000</td>\n",
       "      <td>0.000000</td>\n",
       "      <td>0.000000</td>\n",
       "    </tr>\n",
       "    <tr>\n",
       "      <th>3</th>\n",
       "      <td>svd_recommend_to_list</td>\n",
       "      <td>0.011111</td>\n",
       "      <td>0.111111</td>\n",
       "      <td>0.039579</td>\n",
       "      <td>0.020202</td>\n",
       "    </tr>\n",
       "  </tbody>\n",
       "</table>\n",
       "</div>"
      ],
      "text/plain": [
       "             RecFunction  Precision@k  Recall@k    NDCG@k      F1@k\n",
       "0           pop_baseline     0.011111  0.111111  0.111111  0.020202\n",
       "1           itembased_rs     0.011111  0.111111  0.055556  0.020202\n",
       "2           userbased_rs     0.000000  0.000000  0.000000  0.000000\n",
       "3  svd_recommend_to_list     0.011111  0.111111  0.039579  0.020202"
      ]
     },
     "execution_count": 20,
     "metadata": {},
     "output_type": "execute_result"
    }
   ],
   "source": [
    "#binary\n",
    "rec_functions = [rs.pop_baseline, rs.itembased_rs, rs.userbased_rs, rs.svd_recommend_to_list]              #list of recommendation functions\n",
    "results_table = evals.evaluate(b_train_matrix, b_test_matrix, rec_functions, k=10)\n",
    "results_table"
   ]
  },
  {
   "cell_type": "code",
   "execution_count": 21,
   "metadata": {},
   "outputs": [
    {
     "name": "stdout",
     "output_type": "stream",
     "text": [
      "pop_baseline : done\n",
      "itembased_rs : done\n",
      "userbased_rs : done\n",
      "svd_recommend_to_list : done\n"
     ]
    },
    {
     "data": {
      "text/html": [
       "<div>\n",
       "<style scoped>\n",
       "    .dataframe tbody tr th:only-of-type {\n",
       "        vertical-align: middle;\n",
       "    }\n",
       "\n",
       "    .dataframe tbody tr th {\n",
       "        vertical-align: top;\n",
       "    }\n",
       "\n",
       "    .dataframe thead th {\n",
       "        text-align: right;\n",
       "    }\n",
       "</style>\n",
       "<table border=\"1\" class=\"dataframe\">\n",
       "  <thead>\n",
       "    <tr style=\"text-align: right;\">\n",
       "      <th></th>\n",
       "      <th>RecFunction</th>\n",
       "      <th>Precision@k</th>\n",
       "      <th>Recall@k</th>\n",
       "      <th>NDCG@k</th>\n",
       "      <th>F1@k</th>\n",
       "    </tr>\n",
       "  </thead>\n",
       "  <tbody>\n",
       "    <tr>\n",
       "      <th>0</th>\n",
       "      <td>pop_baseline</td>\n",
       "      <td>0.0250</td>\n",
       "      <td>0.250</td>\n",
       "      <td>0.101933</td>\n",
       "      <td>0.045455</td>\n",
       "    </tr>\n",
       "    <tr>\n",
       "      <th>1</th>\n",
       "      <td>itembased_rs</td>\n",
       "      <td>0.0125</td>\n",
       "      <td>0.125</td>\n",
       "      <td>0.078866</td>\n",
       "      <td>0.022727</td>\n",
       "    </tr>\n",
       "    <tr>\n",
       "      <th>2</th>\n",
       "      <td>userbased_rs</td>\n",
       "      <td>0.0125</td>\n",
       "      <td>0.125</td>\n",
       "      <td>0.078866</td>\n",
       "      <td>0.022727</td>\n",
       "    </tr>\n",
       "    <tr>\n",
       "      <th>3</th>\n",
       "      <td>svd_recommend_to_list</td>\n",
       "      <td>0.0000</td>\n",
       "      <td>0.000</td>\n",
       "      <td>0.000000</td>\n",
       "      <td>0.000000</td>\n",
       "    </tr>\n",
       "  </tbody>\n",
       "</table>\n",
       "</div>"
      ],
      "text/plain": [
       "             RecFunction  Precision@k  Recall@k    NDCG@k      F1@k\n",
       "0           pop_baseline       0.0250     0.250  0.101933  0.045455\n",
       "1           itembased_rs       0.0125     0.125  0.078866  0.022727\n",
       "2           userbased_rs       0.0125     0.125  0.078866  0.022727\n",
       "3  svd_recommend_to_list       0.0000     0.000  0.000000  0.000000"
      ]
     },
     "execution_count": 21,
     "metadata": {},
     "output_type": "execute_result"
    }
   ],
   "source": [
    "#n-clicks\n",
    "rec_functions = [rs.pop_baseline, rs.itembased_rs, rs.userbased_rs, rs.svd_recommend_to_list]               #list of recommendation functions\n",
    "results_table = evals.evaluate(n_train_matrix, n_test_matrix, rec_functions, k=10)\n",
    "results_table"
   ]
  },
  {
   "attachments": {},
   "cell_type": "markdown",
   "metadata": {},
   "source": [
    "_____________________"
   ]
  },
  {
   "cell_type": "code",
   "execution_count": 25,
   "metadata": {},
   "outputs": [],
   "source": [
    "#matrice un po' più grande\n",
    "b_train_matrix = load_npz('b_train_matrix_15.npz')\n",
    "b_test_matrix = load_npz('b_test_matrix_15.npz')\n",
    "n_train_matrix = load_npz('n_train_matrix_15.npz')\n",
    "n_test_matrix = load_npz('n_test_matrix_15.npz')\n",
    "b_train_matrix = b_train_matrix[:1000, :1000]\n",
    "b_test_matrix = b_test_matrix[:1000, :1000]\n",
    "n_test_matrix = n_test_matrix[:1000, :1000]\n",
    "n_train_matrix = n_train_matrix[:1000, :1000]"
   ]
  },
  {
   "cell_type": "code",
   "execution_count": 29,
   "metadata": {},
   "outputs": [
    {
     "name": "stdout",
     "output_type": "stream",
     "text": [
      "pop_baseline : done\n",
      "itembased_rs : done\n",
      "userbased_rs : done\n"
     ]
    },
    {
     "data": {
      "text/html": [
       "<div>\n",
       "<style scoped>\n",
       "    .dataframe tbody tr th:only-of-type {\n",
       "        vertical-align: middle;\n",
       "    }\n",
       "\n",
       "    .dataframe tbody tr th {\n",
       "        vertical-align: top;\n",
       "    }\n",
       "\n",
       "    .dataframe thead th {\n",
       "        text-align: right;\n",
       "    }\n",
       "</style>\n",
       "<table border=\"1\" class=\"dataframe\">\n",
       "  <thead>\n",
       "    <tr style=\"text-align: right;\">\n",
       "      <th></th>\n",
       "      <th>RecFunction</th>\n",
       "      <th>Precision@k</th>\n",
       "      <th>Recall@k</th>\n",
       "      <th>NDCG@k</th>\n",
       "      <th>F1@k</th>\n",
       "    </tr>\n",
       "  </thead>\n",
       "  <tbody>\n",
       "    <tr>\n",
       "      <th>0</th>\n",
       "      <td>pop_baseline</td>\n",
       "      <td>0.021375</td>\n",
       "      <td>0.120358</td>\n",
       "      <td>0.099680</td>\n",
       "      <td>0.034468</td>\n",
       "    </tr>\n",
       "    <tr>\n",
       "      <th>1</th>\n",
       "      <td>itembased_rs</td>\n",
       "      <td>0.002974</td>\n",
       "      <td>0.011232</td>\n",
       "      <td>0.014622</td>\n",
       "      <td>0.004521</td>\n",
       "    </tr>\n",
       "    <tr>\n",
       "      <th>2</th>\n",
       "      <td>userbased_rs</td>\n",
       "      <td>0.007993</td>\n",
       "      <td>0.043481</td>\n",
       "      <td>0.036050</td>\n",
       "      <td>0.012929</td>\n",
       "    </tr>\n",
       "  </tbody>\n",
       "</table>\n",
       "</div>"
      ],
      "text/plain": [
       "    RecFunction  Precision@k  Recall@k    NDCG@k      F1@k\n",
       "0  pop_baseline     0.021375  0.120358  0.099680  0.034468\n",
       "1  itembased_rs     0.002974  0.011232  0.014622  0.004521\n",
       "2  userbased_rs     0.007993  0.043481  0.036050  0.012929"
      ]
     },
     "execution_count": 29,
     "metadata": {},
     "output_type": "execute_result"
    }
   ],
   "source": [
    "#binary\n",
    "rec_functions = [rs.pop_baseline, rs.itembased_rs, rs.userbased_rs]              #list of recommendation functions\n",
    "results_table = evals.evaluate(b_train_matrix, b_test_matrix, rec_functions, k=10)\n",
    "results_table"
   ]
  },
  {
   "cell_type": "code",
   "execution_count": 30,
   "metadata": {},
   "outputs": [
    {
     "name": "stdout",
     "output_type": "stream",
     "text": [
      "svd_recommend_to_list : done\n"
     ]
    },
    {
     "data": {
      "text/html": [
       "<div>\n",
       "<style scoped>\n",
       "    .dataframe tbody tr th:only-of-type {\n",
       "        vertical-align: middle;\n",
       "    }\n",
       "\n",
       "    .dataframe tbody tr th {\n",
       "        vertical-align: top;\n",
       "    }\n",
       "\n",
       "    .dataframe thead th {\n",
       "        text-align: right;\n",
       "    }\n",
       "</style>\n",
       "<table border=\"1\" class=\"dataframe\">\n",
       "  <thead>\n",
       "    <tr style=\"text-align: right;\">\n",
       "      <th></th>\n",
       "      <th>RecFunction</th>\n",
       "      <th>Precision@k</th>\n",
       "      <th>Recall@k</th>\n",
       "      <th>NDCG@k</th>\n",
       "      <th>F1@k</th>\n",
       "    </tr>\n",
       "  </thead>\n",
       "  <tbody>\n",
       "    <tr>\n",
       "      <th>0</th>\n",
       "      <td>svd_recommend_to_list</td>\n",
       "      <td>0.007621</td>\n",
       "      <td>0.037561</td>\n",
       "      <td>0.038282</td>\n",
       "      <td>0.011954</td>\n",
       "    </tr>\n",
       "  </tbody>\n",
       "</table>\n",
       "</div>"
      ],
      "text/plain": [
       "             RecFunction  Precision@k  Recall@k    NDCG@k      F1@k\n",
       "0  svd_recommend_to_list     0.007621  0.037561  0.038282  0.011954"
      ]
     },
     "execution_count": 30,
     "metadata": {},
     "output_type": "execute_result"
    }
   ],
   "source": [
    "#Q: how to find appropriate f in svd if so computationally expensive?\n",
    "\n",
    "rec_functions = [rs.svd_recommend_to_list(f)]              #list of recommendation functions\n",
    "results_table = evals.evaluate(b_train_matrix, b_test_matrix, rec_functions, k=10)\n",
    "results_table #1 ora"
   ]
  },
  {
   "cell_type": "code",
   "execution_count": 27,
   "metadata": {},
   "outputs": [
    {
     "name": "stdout",
     "output_type": "stream",
     "text": [
      "pop_baseline : done\n",
      "itembased_rs : done\n",
      "userbased_rs : done\n"
     ]
    },
    {
     "data": {
      "text/html": [
       "<div>\n",
       "<style scoped>\n",
       "    .dataframe tbody tr th:only-of-type {\n",
       "        vertical-align: middle;\n",
       "    }\n",
       "\n",
       "    .dataframe tbody tr th {\n",
       "        vertical-align: top;\n",
       "    }\n",
       "\n",
       "    .dataframe thead th {\n",
       "        text-align: right;\n",
       "    }\n",
       "</style>\n",
       "<table border=\"1\" class=\"dataframe\">\n",
       "  <thead>\n",
       "    <tr style=\"text-align: right;\">\n",
       "      <th></th>\n",
       "      <th>RecFunction</th>\n",
       "      <th>Precision@k</th>\n",
       "      <th>Recall@k</th>\n",
       "      <th>NDCG@k</th>\n",
       "      <th>F1@k</th>\n",
       "    </tr>\n",
       "  </thead>\n",
       "  <tbody>\n",
       "    <tr>\n",
       "      <th>0</th>\n",
       "      <td>pop_baseline</td>\n",
       "      <td>0.015302</td>\n",
       "      <td>0.087562</td>\n",
       "      <td>0.071103</td>\n",
       "      <td>0.024906</td>\n",
       "    </tr>\n",
       "    <tr>\n",
       "      <th>1</th>\n",
       "      <td>itembased_rs</td>\n",
       "      <td>0.001779</td>\n",
       "      <td>0.009253</td>\n",
       "      <td>0.007835</td>\n",
       "      <td>0.002863</td>\n",
       "    </tr>\n",
       "    <tr>\n",
       "      <th>2</th>\n",
       "      <td>userbased_rs</td>\n",
       "      <td>0.004982</td>\n",
       "      <td>0.032134</td>\n",
       "      <td>0.019050</td>\n",
       "      <td>0.008188</td>\n",
       "    </tr>\n",
       "  </tbody>\n",
       "</table>\n",
       "</div>"
      ],
      "text/plain": [
       "    RecFunction  Precision@k  Recall@k    NDCG@k      F1@k\n",
       "0  pop_baseline     0.015302  0.087562  0.071103  0.024906\n",
       "1  itembased_rs     0.001779  0.009253  0.007835  0.002863\n",
       "2  userbased_rs     0.004982  0.032134  0.019050  0.008188"
      ]
     },
     "execution_count": 27,
     "metadata": {},
     "output_type": "execute_result"
    }
   ],
   "source": [
    "#nclicks\n",
    "rec_functions = [rs.pop_baseline, rs.itembased_rs, rs.userbased_rs]              #list of recommendation functions\n",
    "results_table = evals.evaluate(n_train_matrix, n_test_matrix, rec_functions, k=10)\n",
    "results_table"
   ]
  },
  {
   "cell_type": "code",
   "execution_count": 32,
   "metadata": {},
   "outputs": [],
   "source": [
    "rec_functions = [rs.svd_recommend_to_list]              #list of recommendation functions\n",
    "results_table = evals.evaluate(n_train_matrix, n_test_matrix, rec_functions, k=10)\n",
    "results_table"
   ]
  }
 ],
 "metadata": {
  "kernelspec": {
   "display_name": "Python 3",
   "language": "python",
   "name": "python3"
  },
  "language_info": {
   "codemirror_mode": {
    "name": "ipython",
    "version": 3
   },
   "file_extension": ".py",
   "mimetype": "text/x-python",
   "name": "python",
   "nbconvert_exporter": "python",
   "pygments_lexer": "ipython3",
   "version": "3.9.12"
  },
  "orig_nbformat": 4
 },
 "nbformat": 4,
 "nbformat_minor": 2
}
