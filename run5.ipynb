{
 "cells": [
  {
   "attachments": {},
   "cell_type": "markdown",
   "metadata": {},
   "source": [
    "n=5   | total interactions (user, item, label): 16021685  | unique users: 93971 | unique items: 55011 <br>\n",
    "n=15 | total interactions (user, item, label): 15797582  | unique users: 86338 | unique items: 26937\n",
    "\n",
    "\n",
    "[MODELS](https://recbole.io/docs/user_guide/model_intro.html) |\n",
    "[CONFIG](https://recbole.io/docs/user_guide/config_settings.html#config-settings) | [EVAL METRIC](https://recbole.io/docs/recbole/recbole.evaluator.metrics.html)"
   ]
  },
  {
   "cell_type": "code",
   "execution_count": 7,
   "metadata": {},
   "outputs": [
    {
     "name": "stdout",
     "output_type": "stream",
     "text": [
      "Using device: mps\n"
     ]
    }
   ],
   "source": [
    "from recbole.config import Config\n",
    "from recbole.data import create_dataset, data_preparation\n",
    "from recbole.model.context_aware_recommender import FM, DeepFM\n",
    "from recbole.model.general_recommender import SimpleX, BPR, NeuMF\n",
    "from recbole.trainer import Trainer\n",
    "from recbole.utils import init_seed, init_logger\n",
    "import torch\n",
    "from torch import nn\n",
    "import logging\n",
    "from recbole.quick_start import  load_data_and_model\n",
    "import pandas as pd\n",
    "\n",
    "#sanity check for mps\n",
    "device = torch.device(\"mps\" if torch.backends.mps.is_available() else \"cpu\")\n",
    "print(f\"Using device: {device}\")"
   ]
  },
  {
   "cell_type": "code",
   "execution_count": 8,
   "metadata": {},
   "outputs": [
    {
     "data": {
      "text/plain": [
       "label:float\n",
       "0    8148506\n",
       "1    7649076\n",
       "Name: count, dtype: int64"
      ]
     },
     "execution_count": 8,
     "metadata": {},
     "output_type": "execute_result"
    }
   ],
   "source": [
    "inter['label:float'].value_counts()"
   ]
  },
  {
   "attachments": {},
   "cell_type": "markdown",
   "metadata": {},
   "source": [
    "https://github.com/RUCAIBox/RecBole/issues/1721 - \n",
    "https://github.com/RUCAIBox/RecBole/issues/1150"
   ]
  },
  {
   "attachments": {},
   "cell_type": "markdown",
   "metadata": {},
   "source": [
    "[custom model doc](https://recbole.io/docs/developer_guide/customize_models.html)"
   ]
  },
  {
   "cell_type": "code",
   "execution_count": 2,
   "metadata": {},
   "outputs": [],
   "source": [
    "class DeepFMCustom(DeepFM):\n",
    "    def __init__(self, config, dataset):\n",
    "        super(DeepFMCustom, self).__init__(config, dataset)\n",
    "        pretrained_user_emb = dataset.get_preload_weight('uid')\n",
    "        self.user_embedding = nn.Embedding.from_pretrained(torch.from_numpy(pretrained_user_emb))"
   ]
  },
  {
   "cell_type": "code",
   "execution_count": 2,
   "metadata": {},
   "outputs": [],
   "source": [
    "#GENERAL RECOMMENDER\n",
    "config_dict = {\n",
    "    'epochs': 10,\n",
    "    'data_path': '/Users/giulia/Desktop/tesi/',\n",
    "    'dataset': 'test_run', # 'mind_small15' or  'test_run'\n",
    "    'load_col': {\n",
    "        'inter': ['user_id', 'item_id', 'label']},     \n",
    "    'USER_ID_FIELD': 'user_id',\n",
    "    'ITEM_ID_FIELD': 'item_id',    \n",
    "    'eval_args': {\n",
    "        'split': {'RS': [0.8, 0.1, 0.1]},\n",
    "        'group_by': 'user',\n",
    "        'order': 'RO', #there is no timestamp column\n",
    "        'mode': 'labeled'},\n",
    "    'model': 'NeuMF',\n",
    "    'learning_rate': 0.001, \n",
    "    'device': device, #this doesn't work\n",
    "    'embedding_size': 32, # 64 -> kernel dies :(\n",
    "    'train_batch_size': 32, #64-> kernel dies :(\n",
    "    'eval_batch_size': 32,\n",
    "    'l2_reg': 0.001,\n",
    "    'early_stopping_patience': 5,  \n",
    "    'early_stopping_metric': 'MRR@10',\n",
    "    'checkpoint_dir': './saved',\n",
    "    'log_level': 'DEBUG',\n",
    "    'seed': 42,\n",
    "    'reproducibility': True,\n",
    "    'metrics': [\"AUC\", \"MAE\", \"RMSE\", \"LogLoss\"], #\n",
    "    \n",
    "    \n",
    "}\n"
   ]
  },
  {
   "cell_type": "code",
   "execution_count": 3,
   "metadata": {},
   "outputs": [],
   "source": [
    "#CONTEX-AWARE RECOMMENDER\n",
    "config_dict = {\n",
    "    'epochs': 10,\n",
    "    'data_path': '/Users/giulia/Desktop/tesi/',\n",
    "    'dataset': 'mind_small15', #or 'test_run'\n",
    "    'additional_feat_suffix': ['useremb'],\n",
    "    'load_col': {\n",
    "        'inter': ['user_id', 'item_id', 'label'],\n",
    "        'useremb': ['uid', 'user_emb']},\n",
    "    'USER_ID_FIELD': 'user_id',\n",
    "    'ITEM_ID_FIELD': 'item_id',\n",
    "    'alias_of_user_id': ['uid'], #List of fields’ names, which will be remapped into the same index system with USER_ID_FIELD\n",
    "    'preload_weight': {'uid': 'user_emb'},\n",
    "    'eval_args': {\n",
    "        'split': {'RS': [0.8, 0.1, 0.1]},\n",
    "        'group_by': 'user',\n",
    "        'order': 'RO', #there is no timestamp column\n",
    "        'mode': 'labeled'},\n",
    "    'model': DeepFMCustom,\n",
    "    'mlp_hidden_size': [32] ,\n",
    "    'dropout_prob': 0.1,\n",
    "    'learning_rate': 0.001, \n",
    "    'device': device, #this doesn't work\n",
    "    'embedding_size': 32, # 64 -> kernel dies :(\n",
    "    'train_batch_size': 32, #64-> kernel dies :(\n",
    "    'eval_batch_size': 32,\n",
    "    'l2_reg': 0.001,\n",
    "    'early_stopping_patience': 5,  \n",
    "    'early_stopping_metric': 'MRR@10',\n",
    "    'checkpoint_dir': './saved',\n",
    "    'log_level': 'DEBUG',\n",
    "    'seed': 42,\n",
    "    'reproducibility': True,\n",
    "    'metrics': [\"AUC\", \"MAE\", \"RMSE\", \"LogLoss\"], #, [\"MRR\", \"NDCG\", \"Precision\", \"Recall\", \"F1\"] are not supported by DeepFM\n",
    "    \n",
    "    \n",
    "}\n"
   ]
  },
  {
   "attachments": {},
   "cell_type": "markdown",
   "metadata": {},
   "source": [
    "[handler doc](https://docs.python.org/3/library/logging.handlers.html)"
   ]
  },
  {
   "cell_type": "code",
   "execution_count": 3,
   "metadata": {},
   "outputs": [
    {
     "name": "stderr",
     "output_type": "stream",
     "text": [
      "24 Apr 12:17    INFO  test_run\n",
      "The number of users: 978\n",
      "Average actions of users: 1.0235414534288638\n",
      "The number of items: 852\n",
      "Average actions of items: 1.1750881316098707\n",
      "The number of inters: 1000\n",
      "The sparsity of the dataset: 99.87998886296648%\n",
      "Remain Fields: ['user_id', 'item_id', 'label']\n",
      "test_run\n",
      "The number of users: 978\n",
      "Average actions of users: 1.0235414534288638\n",
      "The number of items: 852\n",
      "Average actions of items: 1.1750881316098707\n",
      "The number of inters: 1000\n",
      "The sparsity of the dataset: 99.87998886296648%\n",
      "Remain Fields: ['user_id', 'item_id', 'label']\n"
     ]
    }
   ],
   "source": [
    "config = Config(model=NeuMF, dataset=config_dict['dataset'], config_dict=config_dict)\n",
    "init_seed(config['seed'], config['reproducibility'])\n",
    "#------------logger\n",
    "init_logger(config)\n",
    "logger = logging.getLogger()\n",
    "#------------handler\n",
    "c_handler = logging.StreamHandler()\n",
    "c_handler.setLevel(logging.DEBUG)\n",
    "logger.addHandler(c_handler)\n",
    "#logger.info(config)\n",
    "#------------data\n",
    "dataset = create_dataset(config)\n",
    "#print(dataset.useremb_feat)\n",
    "logger.info(dataset)"
   ]
  },
  {
   "cell_type": "code",
   "execution_count": 4,
   "metadata": {},
   "outputs": [
    {
     "name": "stdout",
     "output_type": "stream",
     "text": [
      "user_id [  1   2   3   4   5   6   7   8   9  10  11  12  13  14  15  16  17  18\n",
      "  19  20  21  22  23  24  25  26  27  28  29  30  31  32  33  34  35  36\n",
      "  37  38  39  40  41  42  43  44  45  46  47  48  49  50  51  52  53  54\n",
      "  55  56  57  58  59  60  61  62  63  64  65  66  67  68  69  70  71  72\n",
      "  73  74  75  76  77  78  79  80  81  82  83  84  85  86  87  88  89  90\n",
      "  91  92  93  94  95  96  97  98  99 100 101 102 103 104 105 106 107 108\n",
      " 109 110 111 112 113 114 115 116 117 118 119 120 121 122 123 124 125 126\n",
      " 127 128 129 130 131 132 133 134 135 136 137 138 139 140 141 142 143 144\n",
      " 145 146 147 148 149 150 151 152 153 154 155 156 157 158 159 160 161 162\n",
      " 163 164 165 166 167 166 168 169 170 171 172 173 174 175 176 177 178 179\n",
      " 180 181 182 183 184 185 186 187 188 189 190 191 192 193 194 195 196 197\n",
      " 198 199 200 201 202 203 204 205 206 207 208 209 210 211 212 213 214 215\n",
      " 216 217 218 219 220 221 222 223 224 225 226 227 228 229 230 231 232 233\n",
      " 234 235 236 237 238 239 240 241 242 243 244 245 246 247 248 249 250 251\n",
      " 252 253 254 255 256 257 258 259 260 261 262 263 264 265 266 267  94 268\n",
      " 269 270 271 272 273 274 275 276 277 278 279 280 281 282 283 284 285 286\n",
      " 287 288 289 290 291 292 293 294 295 296 297 298 170 299 300 301 302 303\n",
      " 304 305 306 307 308 309 310 311 312 313 314 315 316 317 318 319 320 321\n",
      " 322 323 324 325 326 327 328 329 330 331 332 333 334 335 336 337 338 339\n",
      " 340 341 342 343 344 345 346 347 348 349 350 351 352 353 354 355 356 337\n",
      " 357 358 359 360 361 362 363 364 365 366 367 368 369 370 371 372 373 374\n",
      " 375 376 377 378 379 380 381 382 383 384 385 386 387 388 215 389 390 391\n",
      " 392 393 394 395 396 397 398 399 400 401 402 403 404 405 406 407 408 409\n",
      " 410 411 412 413 414 415 416 417 418 419 420 421 422 423 424 425 426 427\n",
      " 428 429 430 431 432 433 434 435 436 437 438 439 146 440 441 442 443 444\n",
      " 445 446 447 448 449 450 451 452 453 454 455 456 457 458 459 460 461 462\n",
      " 463 464 465 466 467 468 469 470 471 472 473 474 475 476 477 478 479 480\n",
      " 481 482 483 484 485 486 487 488 489 227 490 491 492 493 494 495 496 497\n",
      " 498 228 499 500 501 502 503 504 505 506 507 508 509 510 511 512 513 514\n",
      " 515 516 373 517 518 519 520 521 522 523 524 525 526 527 528 529 530 531\n",
      " 532 533 534 535 536 537 538 539 540 541 542 543 544 545 546 547 548 549\n",
      " 550 551 552 553 554 555 556 557 558 559 560 561 562 563 564 565 566 567\n",
      " 568 569 570 571 572 307 573 574 575 576 577 578 579 580 581 582 583 584\n",
      " 585 586 587 588 589 590 591 592 593 594 595 596 597 598 599 600 601 602\n",
      " 603 604 605 606 607 608 609 610 611 612 613 614 615 616 617 618 619 620\n",
      " 621 622 623 624 625 626 627 628 629 630 631 632 633 634 635 636 637 638\n",
      " 639 640 641 642 643 644 382 181 645 646 647 648 649 650 651 652 653 654\n",
      " 655 656 657 658 659 660 661 662 663 664 665 666 667 668 669 670 671 672\n",
      " 673 674 652 675 676 677 678 679 680 681 682 683 684 685 686 687 688 689\n",
      " 690 691 692 693 694 695 696 697 698 699 700 701 697 702 703 704 705 706\n",
      " 707 708 709 710 711 712 713 714 715 716 717 718 719 720 721 722 165 723\n",
      " 724 725 726 727 728 729 730 731 732 733 734 735 736 737 738 739 740 741\n",
      " 742 743 744 745 746 747 748 278 749 750 751 752 753 754 755 756 757 758\n",
      " 759 760 761 762 763 764 765 766 767 768 769 770 771 772 773 774 775 776\n",
      " 777 778 779 780 781 782 783 784 785 786 787 788 789 252 790 791 792 793\n",
      " 794 795 796 797 798 799 800 801 802 803 804 805 806 807 808 809 810 811\n",
      " 812 813 814 815 816 817 818 819 820 821 822 823 824 825 826 827 828 829\n",
      " 830 831 832 833 834 835 836 837 838 839 840 841 842 843 844 845 846 847\n",
      " 848 849 850 851  34 852 853 854 855 856 857 858 859 860 861 862 863 665\n",
      " 864 865 866 867 868 869 870 871 872 873 874 875 876 877 437 878 879 880\n",
      " 881 882 883 884 885 886 887 888 889 890 891 892 893 894 895 896 897 898\n",
      " 899 900 901 902 903 904 905 906 907 908 909 910 911 912 913 914 426 915\n",
      " 916 917 918 919 920 921 922  44 923 924 925 926 927 928 929 930 931 932\n",
      " 840 933 934 935 936 937 938 939 940 941 942 943 944 945 946 947 948 949\n",
      " 950 951 952 953 954 955 956 957 958 959 960 961 962 963 964 965 966 967\n",
      " 968 969 970 971 972 973 974 975 976 977]\n",
      "item_id [  1   2   3   4   5   6   7   8   9  10  11  12  13  14  15  16  17  18\n",
      "  19  20  21  22  23  24  25  26  27  28  29  30  31  32  33  34  35  36\n",
      "  37  38  39  40  41  42  43  44  45  46  47  48  49  50  51  52  53  54\n",
      "  55  56  57  58  59  60  61  62  63  64  65  66  67  68  69  70  71  72\n",
      "  73  74  75  76  77  78  58  79  80  81  82  83  84  85  86  87  88  89\n",
      "  90  91  92  93  94  95  96  97  98  99 100 101 102 103 104 105 106 107\n",
      " 108 109 110 111 112 113 114 115 116 117  30 118 119 120 121 122 123 124\n",
      " 125 126 127 128 129 130 131 132 133 134 135 136 137 138 139 140 141 142\n",
      " 143 144 145 146 147 148 149 150 151 152 153 154 155 156 157  50 158 159\n",
      " 160 161 162 163 164 165 166 167 168  22 169 170 171 172 173 174 175 176\n",
      " 177 178  76 179 180 181 182 183 184 185 186 187 188  81 189 190 191 192\n",
      " 193 194 195 196 197 198 199 200 201  75 202 203 204 205 206 207 208 209\n",
      " 210 211 212 213 214 215 216 217 218 219 220 221 222 223 224 225 226 227\n",
      " 228 229 230 231 232 233 234 235 236 237 230 238 239 240 241 242 243 244\n",
      " 245 246 247 248 249 250 251 252 253 254 255 256 257 258 259 260 261 262\n",
      " 263 264 265 266 267 268 169 269 270 271 272 273 274 275 276 277 278 279\n",
      " 254 280 281 271 282 283 284 285 286 287 288 289 290 291 292 293 294 295\n",
      " 296 297 298 284 299 300 301  74  51 302 303 304 305 306  20 307 238 308\n",
      " 309 310 311 312 313 314 315 316 317 318 319 320 321 322 158 275 323 324\n",
      " 325 326 327 328 329 330 331 332 333 333 334 335 336 337  51 338 339 340\n",
      " 341 342 343 344 345 203 346 347 348 349 350 177 351 352 353 354 355 356\n",
      " 184 357 358 359 321 360 361 362 363 364 365 366 367 368 369 370 371 372\n",
      " 373 374 375 118 262 241 376 377 208 378 379 380 381 382 383 384 385 386\n",
      " 387 388 389 390 391 392 393 394 395 396 397 398 399 400 401 402 403 404\n",
      "  33 405 207 406 407 408 409 410 411 412 413 414 415 284 416 417 418 419\n",
      "  16 420 421 422 423 424 425 188 426 427 232 154 428 429 430 205 431 432\n",
      " 433 434 435 436 437 438 439 440 120 441 442  84  33 443 444 445 446  22\n",
      " 447 121 448 449 450 451 117 452 453 454 455 456 239 457 458   8 459 460\n",
      " 461 462 463 464 465 466 467 468 143 469 470 471 472 473 474 475 476 477\n",
      " 478 479 480 142 196 329 329 481 265  92 482 483 260 484 485 486 487 488\n",
      " 489 490 238 491 492 493 494 495 496 497 498 499 500 501 502 503 504 505\n",
      " 506 507 508 509 510 511 512 513 514 515 322 338 516 427 517 518 519 520\n",
      " 521 522 523 524 525 526 337 527 528 529 530 531 532 533 534 535 240 536\n",
      " 537 538 539  73 540 541 542 543 544 545 546 547 548 211 549 514 550 551\n",
      " 463 552 553 554 116 555 556 557 558 559 560 561 562 155 208 284 563 564\n",
      " 565 419 566 567 568  69 569 570 520 571 572 573 574 575 292 576 577 578\n",
      " 481 579 149 580 581 582 583 584 585 586 587 124 588  64 589 590 591 592\n",
      " 593 594 595  74 596 597 598 599 600 601 602 603  56 604 394 605 606 607\n",
      " 608 360 609 610 611 612 613 614 615 616 617 618 619 156 620 621 622 623\n",
      " 624 610 625 626 203   8 627 628 629 630 570 631 632 633 634 635 636 636\n",
      " 637 638 606 639 640 641 246 642 643 644 645 646 130 647 648 649 650 651\n",
      " 652  17  22 115 653 654 419 655 656 657 658 659 660 661 662 663  64 606\n",
      " 495 664 665 666 181 667 419 243 668 669   8 670 376 671 672 673 112 527\n",
      " 674 675 676 677 678 471 679 680 215 681 531 682 564 683 684 685 188 686\n",
      " 687 688 689 690  56 691 692 693 694 695 696 697 698 699 700 701 702 703\n",
      " 704 705 706 394 707 708 356 709 710 711 712 713 714 451 715 716 335 717\n",
      " 718 719 650 720 721 722 106 347 723 724 725 726 727 728 729 730 731 732\n",
      " 733 734 735 736 737 738 739 740 741 214 742 636   9 554 743 744 745 746\n",
      " 747 748 749 750 218 188 751 752 753 754 755 756 757 758 759 760 761 762\n",
      " 763 764 207 765 766 767 768 769 770 771 772 773 288 774 412 775 776 404\n",
      " 777 778 779 780 781 262 782 783 784 577 785 309 540 786 787 788 789 790\n",
      " 791  18 792 793 794 795 796 797 610 798 799 800 801 802 246 803 804 805\n",
      "  64 214 806 807 808 809 810 811 487 812 813 814 815 816 817 818 819 820\n",
      " 821 822 823  65 824 825 826 827 225 828 829 830 831 832 328  51  62 833\n",
      " 834  56 389 685 835 399 750 836 837 838 839 840 841 842 843 149 844 845\n",
      " 846 646 590 847 301 848 653 849 850 851]\n",
      "label [1. 0. 1. 1. 1. 1. 1. 1. 1. 1. 1. 0. 0. 0. 0. 0. 0. 0. 0. 0. 0. 0. 1. 0.\n",
      " 0. 0. 1. 0. 1. 0. 1. 0. 0. 1. 0. 1. 0. 0. 1. 1. 0. 1. 0. 1. 1. 0. 1. 0.\n",
      " 1. 0. 0. 0. 0. 1. 1. 0. 0. 1. 0. 0. 0. 0. 1. 0. 0. 0. 0. 0. 0. 1. 0. 0.\n",
      " 0. 0. 1. 1. 0. 1. 1. 0. 0. 0. 1. 1. 0. 1. 0. 1. 1. 1. 0. 0. 0. 1. 1. 0.\n",
      " 1. 0. 0. 0. 0. 0. 1. 1. 1. 1. 1. 0. 0. 0. 1. 1. 0. 0. 1. 1. 0. 0. 0. 0.\n",
      " 1. 0. 0. 0. 1. 0. 0. 1. 0. 1. 1. 0. 0. 0. 0. 0. 1. 1. 1. 1. 1. 0. 1. 1.\n",
      " 0. 0. 0. 1. 0. 1. 0. 1. 1. 0. 0. 0. 0. 0. 1. 1. 0. 0. 0. 1. 1. 0. 0. 0.\n",
      " 1. 0. 1. 0. 0. 1. 1. 0. 1. 0. 1. 1. 0. 1. 1. 1. 1. 1. 1. 0. 0. 1. 1. 1.\n",
      " 0. 0. 0. 1. 0. 1. 0. 1. 1. 1. 0. 1. 0. 1. 0. 1. 1. 0. 1. 0. 0. 0. 0. 1.\n",
      " 1. 0. 0. 1. 0. 0. 1. 1. 1. 1. 1. 1. 1. 0. 0. 0. 0. 1. 0. 0. 0. 1. 0. 0.\n",
      " 0. 1. 0. 1. 0. 1. 0. 0. 0. 0. 1. 0. 1. 0. 0. 0. 1. 1. 1. 0. 0. 0. 1. 1.\n",
      " 0. 0. 0. 0. 1. 0. 0. 0. 1. 0. 0. 1. 0. 1. 1. 1. 0. 1. 1. 1. 0. 1. 1. 0.\n",
      " 0. 0. 1. 1. 1. 1. 0. 0. 1. 1. 1. 1. 1. 0. 0. 0. 0. 1. 0. 1. 1. 0. 1. 1.\n",
      " 1. 0. 0. 1. 0. 0. 1. 1. 1. 1. 1. 0. 1. 0. 1. 1. 0. 0. 0. 1. 0. 1. 0. 0.\n",
      " 0. 0. 0. 1. 0. 1. 1. 0. 1. 1. 0. 0. 0. 0. 0. 0. 0. 0. 1. 0. 0. 1. 0. 1.\n",
      " 1. 1. 0. 0. 0. 1. 0. 0. 0. 1. 1. 0. 1. 0. 0. 1. 0. 0. 0. 0. 1. 1. 0. 1.\n",
      " 0. 1. 1. 0. 0. 0. 0. 0. 1. 0. 0. 0. 0. 1. 0. 0. 0. 0. 0. 1. 0. 0. 1. 0.\n",
      " 0. 1. 1. 0. 1. 0. 0. 1. 0. 1. 0. 1. 0. 1. 1. 1. 1. 0. 1. 0. 1. 1. 1. 0.\n",
      " 0. 0. 0. 1. 1. 0. 0. 0. 0. 1. 1. 1. 0. 1. 0. 0. 0. 0. 0. 0. 1. 1. 1. 1.\n",
      " 0. 0. 1. 0. 0. 0. 1. 0. 1. 0. 1. 1. 0. 1. 1. 1. 1. 1. 1. 1. 0. 0. 0. 0.\n",
      " 0. 1. 1. 0. 1. 0. 0. 0. 1. 1. 0. 0. 0. 0. 1. 1. 1. 1. 0. 1. 0. 1. 0. 0.\n",
      " 0. 1. 1. 1. 0. 1. 1. 1. 0. 0. 0. 0. 0. 0. 0. 1. 1. 0. 1. 0. 1. 1. 1. 0.\n",
      " 0. 0. 1. 0. 1. 0. 0. 1. 0. 0. 1. 0. 1. 0. 1. 1. 0. 0. 0. 0. 0. 1. 0. 0.\n",
      " 0. 0. 1. 1. 1. 1. 0. 1. 0. 1. 1. 1. 1. 1. 1. 0. 0. 1. 0. 0. 1. 1. 0. 0.\n",
      " 1. 1. 0. 1. 0. 0. 0. 0. 0. 0. 1. 0. 0. 0. 0. 0. 0. 1. 0. 1. 1. 0. 0. 1.\n",
      " 0. 0. 0. 1. 1. 0. 1. 0. 0. 1. 1. 0. 1. 0. 1. 1. 0. 0. 0. 1. 0. 1. 1. 0.\n",
      " 1. 0. 0. 0. 0. 1. 0. 0. 1. 0. 1. 0. 0. 1. 0. 1. 0. 0. 1. 0. 0. 1. 0. 0.\n",
      " 0. 1. 0. 0. 1. 0. 1. 1. 0. 0. 1. 0. 1. 0. 1. 0. 1. 0. 1. 1. 1. 0. 0. 1.\n",
      " 1. 0. 0. 1. 1. 1. 0. 0. 1. 0. 0. 0. 1. 1. 1. 0. 1. 1. 1. 0. 0. 0. 1. 1.\n",
      " 1. 0. 0. 0. 1. 0. 1. 0. 1. 1. 0. 1. 0. 1. 0. 1. 1. 0. 1. 0. 1. 0. 0. 0.\n",
      " 1. 1. 0. 0. 1. 1. 0. 0. 1. 1. 1. 0. 0. 0. 1. 1. 0. 0. 0. 0. 0. 1. 1. 0.\n",
      " 1. 1. 0. 1. 1. 0. 0. 0. 0. 1. 0. 0. 0. 0. 0. 0. 1. 1. 0. 1. 0. 0. 1. 1.\n",
      " 0. 0. 0. 0. 0. 0. 1. 0. 1. 1. 0. 0. 0. 0. 0. 0. 0. 1. 1. 1. 1. 0. 0. 1.\n",
      " 0. 1. 1. 1. 0. 1. 0. 1. 1. 0. 0. 0. 0. 0. 0. 1. 0. 0. 0. 1. 1. 1. 0. 0.\n",
      " 1. 0. 1. 1. 1. 1. 1. 0. 1. 1. 0. 0. 0. 1. 0. 1. 0. 0. 1. 0. 0. 0. 1. 0.\n",
      " 1. 1. 0. 1. 1. 1. 0. 0. 1. 0. 0. 1. 1. 0. 0. 0. 1. 0. 1. 1. 0. 0. 1. 0.\n",
      " 0. 1. 1. 0. 1. 0. 1. 0. 0. 0. 0. 1. 0. 0. 0. 1. 0. 1. 1. 1. 1. 0. 0. 1.\n",
      " 1. 0. 0. 1. 1. 1. 1. 0. 1. 0. 0. 0. 0. 1. 1. 1. 1. 0. 1. 1. 0. 0. 0. 1.\n",
      " 0. 0. 0. 0. 0. 1. 0. 0. 1. 1. 1. 1. 1. 1. 0. 1. 1. 0. 1. 1. 0. 1. 1. 0.\n",
      " 0. 0. 0. 1. 1. 1. 1. 0. 1. 1. 0. 1. 0. 1. 0. 1. 1. 0. 0. 0. 1. 0. 0. 1.\n",
      " 0. 1. 0. 1. 1. 0. 0. 1. 1. 0. 0. 0. 0. 0. 0. 0. 0. 1. 0. 0. 1. 0. 0. 1.\n",
      " 1. 0. 0. 0. 1. 1. 1. 0. 0. 0. 1. 0. 1. 1. 1. 0.]\n"
     ]
    },
    {
     "name": "stderr",
     "output_type": "stream",
     "text": [
      "24 Apr 12:17    INFO  [Training]: train_batch_size = [32] train_neg_sample_args: [{'distribution': 'uniform', 'sample_num': 1, 'alpha': 1.0, 'dynamic': False, 'candidate_num': 0}]\n",
      "[Training]: train_batch_size = [32] train_neg_sample_args: [{'distribution': 'uniform', 'sample_num': 1, 'alpha': 1.0, 'dynamic': False, 'candidate_num': 0}]\n",
      "24 Apr 12:17    INFO  [Evaluation]: eval_batch_size = [32] eval_args: [{'split': {'RS': [0.8, 0.1, 0.1]}, 'order': 'RO', 'group_by': 'user', 'mode': {'valid': 'labeled', 'test': 'labeled'}}]\n",
      "[Evaluation]: eval_batch_size = [32] eval_args: [{'split': {'RS': [0.8, 0.1, 0.1]}, 'order': 'RO', 'group_by': 'user', 'mode': {'valid': 'labeled', 'test': 'labeled'}}]\n"
     ]
    }
   ],
   "source": [
    "train_data, valid_data, test_data = data_preparation(config, dataset)\n",
    "\n",
    "#model = DeepFMCustom(config, train_data.dataset).to(config['device'])\n",
    "#logger.info(model)\n"
   ]
  },
  {
   "cell_type": "code",
   "execution_count": 5,
   "metadata": {},
   "outputs": [
    {
     "name": "stderr",
     "output_type": "stream",
     "text": [
      "24 Apr 12:17    INFO  epoch 0 training [time: 0.18s, train loss: 42.9800]\n",
      "epoch 0 training [time: 0.18s, train loss: 42.9800]\n",
      "24 Apr 12:17    INFO  Saving current: ./saved/NeuMF-Apr-24-2024_12-17-26.pth\n",
      "Saving current: ./saved/NeuMF-Apr-24-2024_12-17-26.pth\n",
      "24 Apr 12:17    INFO  epoch 1 training [time: 0.13s, train loss: 42.9676]\n",
      "epoch 1 training [time: 0.13s, train loss: 42.9676]\n",
      "24 Apr 12:17    INFO  Saving current: ./saved/NeuMF-Apr-24-2024_12-17-26.pth\n",
      "Saving current: ./saved/NeuMF-Apr-24-2024_12-17-26.pth\n",
      "24 Apr 12:17    INFO  epoch 2 training [time: 0.13s, train loss: 42.9557]\n",
      "epoch 2 training [time: 0.13s, train loss: 42.9557]\n",
      "24 Apr 12:17    INFO  Saving current: ./saved/NeuMF-Apr-24-2024_12-17-26.pth\n",
      "Saving current: ./saved/NeuMF-Apr-24-2024_12-17-26.pth\n",
      "24 Apr 12:17    INFO  epoch 3 training [time: 0.15s, train loss: 42.8360]\n",
      "epoch 3 training [time: 0.15s, train loss: 42.8360]\n",
      "24 Apr 12:17    INFO  Saving current: ./saved/NeuMF-Apr-24-2024_12-17-26.pth\n",
      "Saving current: ./saved/NeuMF-Apr-24-2024_12-17-26.pth\n",
      "24 Apr 12:17    INFO  epoch 4 training [time: 0.15s, train loss: 42.5541]\n",
      "epoch 4 training [time: 0.15s, train loss: 42.5541]\n",
      "24 Apr 12:17    INFO  Saving current: ./saved/NeuMF-Apr-24-2024_12-17-26.pth\n",
      "Saving current: ./saved/NeuMF-Apr-24-2024_12-17-26.pth\n",
      "24 Apr 12:17    INFO  epoch 5 training [time: 0.15s, train loss: 41.6888]\n",
      "epoch 5 training [time: 0.15s, train loss: 41.6888]\n",
      "24 Apr 12:17    INFO  Saving current: ./saved/NeuMF-Apr-24-2024_12-17-26.pth\n",
      "Saving current: ./saved/NeuMF-Apr-24-2024_12-17-26.pth\n",
      "24 Apr 12:17    INFO  epoch 6 training [time: 0.13s, train loss: 37.3107]\n",
      "epoch 6 training [time: 0.13s, train loss: 37.3107]\n",
      "24 Apr 12:17    INFO  Saving current: ./saved/NeuMF-Apr-24-2024_12-17-26.pth\n",
      "Saving current: ./saved/NeuMF-Apr-24-2024_12-17-26.pth\n",
      "24 Apr 12:17    INFO  epoch 7 training [time: 0.14s, train loss: 31.7667]\n",
      "epoch 7 training [time: 0.14s, train loss: 31.7667]\n",
      "24 Apr 12:17    INFO  Saving current: ./saved/NeuMF-Apr-24-2024_12-17-26.pth\n",
      "Saving current: ./saved/NeuMF-Apr-24-2024_12-17-26.pth\n",
      "24 Apr 12:17    INFO  epoch 8 training [time: 0.16s, train loss: 26.5060]\n",
      "epoch 8 training [time: 0.16s, train loss: 26.5060]\n",
      "24 Apr 12:17    INFO  Saving current: ./saved/NeuMF-Apr-24-2024_12-17-26.pth\n",
      "Saving current: ./saved/NeuMF-Apr-24-2024_12-17-26.pth\n",
      "24 Apr 12:17    INFO  epoch 9 training [time: 0.20s, train loss: 20.5859]\n",
      "epoch 9 training [time: 0.20s, train loss: 20.5859]\n",
      "24 Apr 12:17    INFO  Saving current: ./saved/NeuMF-Apr-24-2024_12-17-26.pth\n",
      "Saving current: ./saved/NeuMF-Apr-24-2024_12-17-26.pth\n"
     ]
    }
   ],
   "source": [
    "model = NeuMF(config, train_data.dataset).to(config['device'])\n",
    "trainer = Trainer(config, model)\n",
    "best_valid_score, best_valid_result = trainer.fit(train_data, valid_data, saved=True) "
   ]
  },
  {
   "cell_type": "code",
   "execution_count": 7,
   "metadata": {},
   "outputs": [],
   "source": [
    "#LOAD MODEL\n",
    "#checkpoint_path = './saved/DeepFM-Apr-21-2024_16-02-34.pth' #spec at the end of respective log file\n",
    "\n",
    "#config, model, dataset, train_data, valid_data, test_data = load_data_and_model(\n",
    "#    model_file=checkpoint_path,\n",
    "#)"
   ]
  },
  {
   "cell_type": "code",
   "execution_count": 6,
   "metadata": {},
   "outputs": [
    {
     "name": "stderr",
     "output_type": "stream",
     "text": [
      "24 Apr 12:17    INFO  Loading model structure and parameters from ./saved/NeuMF-Apr-24-2024_12-17-26.pth\n",
      "Loading model structure and parameters from ./saved/NeuMF-Apr-24-2024_12-17-26.pth\n"
     ]
    },
    {
     "data": {
      "text/plain": [
       "OrderedDict([('auc', 0.725),\n",
       "             ('mae', 0.5257),\n",
       "             ('rmse', 0.6677),\n",
       "             ('logloss', 1.9878)])"
      ]
     },
     "execution_count": 6,
     "metadata": {},
     "output_type": "execute_result"
    }
   ],
   "source": [
    "test_result = trainer.evaluate(test_data)\n",
    "test_result"
   ]
  },
  {
   "cell_type": "code",
   "execution_count": null,
   "metadata": {},
   "outputs": [
    {
     "name": "stderr",
     "output_type": "stream",
     "text": [
      "24 Apr 06:59    INFO  Loading model structure and parameters from ./saved/DeepFMCustom-Apr-23-2024_21-10-08.pth\n",
      "Loading model structure and parameters from ./saved/DeepFMCustom-Apr-23-2024_21-10-08.pth\n"
     ]
    },
    {
     "data": {
      "text/plain": [
       "OrderedDict([('auc', 0.9858),\n",
       "             ('mae', 0.0429),\n",
       "             ('rmse', 0.1688),\n",
       "             ('logloss', 0.1335)])"
      ]
     },
     "execution_count": 8,
     "metadata": {},
     "output_type": "execute_result"
    }
   ],
   "source": [
    "test_result = trainer.evaluate(test_data)\n",
    "test_result"
   ]
  },
  {
   "cell_type": "markdown",
   "metadata": {},
   "source": []
  },
  {
   "cell_type": "code",
   "execution_count": null,
   "metadata": {},
   "outputs": [],
   "source": []
  },
  {
   "attachments": {},
   "cell_type": "markdown",
   "metadata": {},
   "source": [
    "-----------------------------------------------------------------------------------------\n"
   ]
  },
  {
   "attachments": {},
   "cell_type": "markdown",
   "metadata": {},
   "source": [
    "just personal notes & useful links:<br>\n",
    "[ADD-> TF-IDF EMBEDDING](https://recbole.io/docs/user_guide/usage/load_pretrained_embedding.html)"
   ]
  },
  {
   "attachments": {},
   "cell_type": "markdown",
   "metadata": {},
   "source": [
    "[kaggle example to get prediction](https://www.kaggle.com/code/astrung/recbole-lstm-sequential-for-recomendation-tutorial#4.-Create-recommendation-result-from-trained-model)"
   ]
  },
  {
   "attachments": {},
   "cell_type": "markdown",
   "metadata": {},
   "source": [
    "\n",
    "\n",
    "[MODELS link](https://recbole.io/docs/user_guide/model_intro.html)\n",
    "\n",
    "higher FLOPS->higher complexity & more computation\n",
    "\n",
    "\n",
    "\n",
    "save_dataset (bool): Determines whether the processed dataset is saved to disk. This can be useful for large datasets that take a long time to preprocess, as it allows for quicker loading in subsequent runs.\n",
    "\n",
    "[training hyperparam.](https://recbole.io/docs/user_guide/config/training_settings.html)\n",
    "\n",
    "[clip_grad_norm](https://pytorch.org/docs/stable/generated/torch.nn.utils.clip_grad_norm_.html): This parameter is used to prevent the exploding gradient problem by clipping the gradients of the parameters during backpropagation to have a maximum norm of a specified value. If set to None, no clipping is applied. If you specify a number (e.g., 5.0), it will clip the gradients such that their norm does not exceed this value. Gradient clipping can be crucial for stabilizing the training of **deep learning models**.\n",
    "\n",
    "[eval hyperparam](https://recbole.io/docs/user_guide/config/evaluation_settings.html)\n",
    "reproducibility vs repeatible (args):\n",
    "\n",
    "**Reproducibility**: set to True, the framework will explicitly set random seeds for all underlying libraries (e.g., PyTorch, NumPy) and any internal operations that use random numbers. This ensures that every aspect of the computation, from the way data is split to the initialization of model parameters, is consistent across runs.\n",
    "\n",
    "**Repeatable**: False might allow for variability in how data is sampled, ordered, or split during the evaluation phase, potentially leading to slight differences in evaluation metrics across runs. Conversely, setting it to True would fix these aspects to ensure consistency in evaluation outcomes.\n",
    "\n",
    "\n",
    "[data hyp](https://recbole.io/docs/user_guide/config/data_settings.html)"
   ]
  },
  {
   "cell_type": "code",
   "execution_count": 9,
   "metadata": {
    "tags": [
     "parameters"
    ]
   },
   "outputs": [
    {
     "data": {
      "text/plain": [
       "\"config_dict = {\\n    'data_path': './mind',\\n    'dataset': 'mind',\\n    'eval_args': {\\n    'split': {'LRS': None},\\n    'order': 'RO'  ,# not relevant\\n    'group_by': '-', # not relevant\\n    'mode': 'full'  # Train, validation, test split\\n}}\\n\\nconfig = Config(model='DMF', dataset=config_dict['dataset'], config_dict=config_dict)\\ndataset = create_dataset(config)\\n\""
      ]
     },
     "execution_count": 9,
     "metadata": {},
     "output_type": "execute_result"
    }
   ],
   "source": [
    "#LRS\n",
    "\"\"\"config_dict = {\n",
    "    'data_path': './mind',\n",
    "    'dataset': 'mind',\n",
    "    'eval_args': {\n",
    "    'split': {'LRS': None},\n",
    "    'order': 'RO'  ,# not relevant\n",
    "    'group_by': '-', # not relevant\n",
    "    'mode': 'full'  # Train, validation, test split\n",
    "}}\n",
    "\n",
    "config = Config(model='DMF', dataset=config_dict['dataset'], config_dict=config_dict)\n",
    "dataset = create_dataset(config)\n",
    "\"\"\"\n",
    "#"
   ]
  }
 ],
 "metadata": {
  "kernelspec": {
   "display_name": "recbole-env",
   "language": "python",
   "name": "python3"
  },
  "language_info": {
   "codemirror_mode": {
    "name": "ipython",
    "version": 3
   },
   "file_extension": ".py",
   "mimetype": "text/x-python",
   "name": "python",
   "nbconvert_exporter": "python",
   "pygments_lexer": "ipython3",
   "version": "3.8.19"
  },
  "orig_nbformat": 4
 },
 "nbformat": 4,
 "nbformat_minor": 2
}
