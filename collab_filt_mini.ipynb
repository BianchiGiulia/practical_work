{
 "cells": [
  {
   "attachments": {},
   "cell_type": "markdown",
   "metadata": {},
   "source": [
    "<h2 style=\"color: #0074D9;\">Table of Contents</h2>\n",
    "<ol>\n",
    "    <li><a href=\"#Data\" style=\"font-size: larger; color: #0074D9; font-weight: bold;\">Data Loading</a></li>\n",
    "    <li><a href=\"#IntMatr\" style=\"font-size: larger; color: #0074D9; font-weight: bold;\">Interaction Matrix</a></li>\n",
    "    <li><a href=\"#Split\" style=\"font-size: larger; color: #0074D9; font-weight: bold;\">Train/Test split</a></li>\n",
    "    <li><a href=\"#Evaluation\" style=\"font-size: larger; color: #0074D9; font-weight: bold;\">Evaluation</a></li>\n",
    "</ol>"
   ]
  },
  {
   "cell_type": "code",
   "execution_count": 1,
   "metadata": {},
   "outputs": [],
   "source": [
    "#disabe annoying warnings\n",
    "import warnings\n",
    "warnings.filterwarnings('ignore')\n",
    "#imports\n",
    "import numpy as np\n",
    "import pandas as pd\n",
    "import seaborn as sns\n",
    "import matplotlib.pyplot as plt\n",
    "from scipy.sparse import csr_matrix, coo_matrix , save_npz, load_npz, find\n",
    "from sklearn.model_selection import train_test_split\n",
    "from sklearn.metrics.pairwise import cosine_similarity\n",
    "from sklearn.preprocessing import MinMaxScaler, MaxAbsScaler\n",
    "#utils\n",
    "import evaluations as evals\n",
    "import rec_sys as rs"
   ]
  },
  {
   "attachments": {},
   "cell_type": "markdown",
   "metadata": {},
   "source": [
    "\n",
    "<h1 style=\"color:rgb(0,120,170)\">Dataset: MIND-small</h1>\n",
    "\n",
    "------------------------------------------------------\n",
    "\n",
    "<a id=\"Data\"></a>\n",
    "\n",
    "entity_embedding.vec ->\tThe embeddings of **entities** in news extracted from knowledge graph (Nodes) <br>\n",
    "relation_embedding.vec\t->  The embeddings of **relations** between entities extracted from knowledge graph (Edges)<br>\n",
    "both [ID (retrievable from news dataset: columns) - EMB VALUES]"
   ]
  },
  {
   "cell_type": "code",
   "execution_count": 23,
   "metadata": {},
   "outputs": [],
   "source": [
    "news = 'MINDsmall_train/news.tsv'\n",
    "behavior = 'MINDsmall_train/behaviors.tsv'\n",
    "def load_news_df(path):\n",
    "    if 'news' in path:\n",
    "        columns = ['News ID',\n",
    "                \"Category\",\n",
    "                \"SubCategory\",\n",
    "                \"Title\",\n",
    "                \"Abstract\",\n",
    "                \"URL\",\n",
    "                \"Title Entities\",\n",
    "                \"Abstract Entities\"]\n",
    "    \n",
    "    elif 'behavior' in path:\n",
    "        columns = ['Impression ID',\n",
    "                \"User ID\",\n",
    "                \"Time\",\n",
    "                \"History\",\n",
    "                \"Impressions\"]\n",
    "    \n",
    "    df = pd.read_csv(path, sep='\\t', header=None, names=columns)\n",
    "    return df"
   ]
  },
  {
   "cell_type": "code",
   "execution_count": 24,
   "metadata": {},
   "outputs": [],
   "source": [
    "#load data\n",
    "news, behavior = load_news_df(news), load_news_df(behavior)\n",
    "binary_interaction_matrix = load_npz('binary_interaction_matrix_15.npz')\n",
    "nclick_interaction_matrix = load_npz('n_click_interaction_matrix_15.npz')\n",
    "#print(news.shape) # --->(51282, 8)\n",
    "#print(behavior.shape)#--->(156965, 5)\n",
    "#\"\"\" @TO-DO (possibly): use only news with category = 'news' & subcategory = 'newspolitics' \"\"\"\n",
    "#news = news[(news['Category'] == 'news') & (news['SubCategory'] == 'newspolitics')] #--->(2826, 8) -> troppe poche?\n"
   ]
  },
  {
   "attachments": {},
   "cell_type": "markdown",
   "metadata": {},
   "source": [
    "\n",
    "<h1 style=\"color:rgb(0,120,170)\">Interaction Matrix</h1>\n",
    "\n",
    "------------------------------------------------------\n",
    "\n",
    "<a id=\"IntMatr\"></a>\n",
    "every item interacted with at least 15 times & every user has at least 15 interactions<br>\n",
    "https://www.sciencedirect.com/science/article/abs/pii/S0957417423023771 <br>\n",
    "http://yifanhu.net/PUB/cf.pdf\n"
   ]
  },
  {
   "attachments": {},
   "cell_type": "markdown",
   "metadata": {},
   "source": [
    "### Interaction Matrix with 1 and 0 (Binary Indicators)\n",
    "\n",
    "*   **Pros**:\n",
    "    \n",
    "    *   **Simplicity**: It's straightforward to interpret and implement. An entry of 1 simply means interaction occurred, and 0 means it did not.\n",
    "    *   **Consistency**: Each interaction is treated equally, which can be appropriate when the mere presence of an interaction is more important than its frequency.\n",
    "    *   **Scalability**: For very large datasets, binary matrices might be more memory-efficient, especially when using sparse matrix representations.\n",
    "*   **Cons**:\n",
    "    \n",
    "    *   **Loss of Information**: It doesn't capture the depth of user engagement, such as repeated interactions with the same item, which could indicate stronger preferences.\n",
    "\n",
    "### Interaction Matrix with Number of Clicks (N)\n",
    "\n",
    "*   **Pros**:\n",
    "    \n",
    "    *   **Rich Information**: Captures not just the occurrence of interactions but their frequency, offering insights into user preferences and engagement levels.\n",
    "    *   **Personalization**: Enables more nuanced recommendations by distinguishing between casual and highly interested interactions.\n",
    "*   **Cons**:\n",
    "    \n",
    "    *   **Complexity**: Handling and interpreting the data becomes more complicated, especially in terms of recommendation algorithms that need to account for varying interaction levels.\n",
    "    *   **Normalization Issues**: Raw interaction counts may need to be normalized to prevent popular items from dominating recommendations purely due to higher visibility rather than genuine user interest."
   ]
  },
  {
   "attachments": {},
   "cell_type": "markdown",
   "metadata": {},
   "source": [
    "# Binary"
   ]
  },
  {
   "cell_type": "code",
   "execution_count": null,
   "metadata": {},
   "outputs": [],
   "source": [
    "#initialize interaction matrix shape (users, news)\n",
    "interaction_matrix_small = pd.DataFrame(0, index=behavior['User ID'].unique(), columns=news['News ID'].unique(), dtype='int16')"
   ]
  },
  {
   "attachments": {},
   "cell_type": "markdown",
   "metadata": {},
   "source": [
    "#NEXT: populate it using both history and impressions<br><br>\n",
    "**Q: binary coding (1,0) vs ternary coding (1,0,-1)** ? <br>\n",
    "PRO (TERNARY): deeplearning algo leverage negative feedback efficiently<br>\n",
    "CONTRO: More complex, possible noise (non click != non interest, is not given)"
   ]
  },
  {
   "cell_type": "code",
   "execution_count": null,
   "metadata": {},
   "outputs": [],
   "source": [
    "behavior[\"History\"] = behavior[\"History\"].apply(lambda x: x.split(\" \") if isinstance(x, str) else [])#make it iterable\n",
    "behavior[\"Impressions\"] = behavior[\"Impressions\"].apply(lambda x: x.split(\" \") if isinstance(x, str) else [])\n",
    "\n",
    "updates = {}\n",
    "\n",
    "for index, row in behavior.iterrows():\n",
    "    user_id = row['User ID']\n",
    "    \n",
    "    #binary encoding to populate matrix\n",
    "    for news_id in row['History']:                          #w/ history\n",
    "        if news_id in interaction_matrix_small.columns:\n",
    "            updates[(user_id, news_id)] = 1\n",
    "            \n",
    "    \n",
    "    for impression in row['Impressions']:                   #w/ impression\n",
    "        news_id, clicked = impression.split('-')\n",
    "        if clicked == '1' and news_id in interaction_matrix_small.columns:\n",
    "            updates[(user_id, news_id)] = 1\n",
    "\n",
    "for (user_id, news_id), value in updates.items():\n",
    "    interaction_matrix_small.at[user_id, news_id] = value\n",
    "    \n",
    "interaction_matrix_small = interaction_matrix_small.astype('int8') #it's just 1 and 0\n",
    "#interaction_matrix_small.iloc[:10, :10]"
   ]
  },
  {
   "cell_type": "code",
   "execution_count": null,
   "metadata": {},
   "outputs": [],
   "source": [
    "print(f'interaction_matrix before: {interaction_matrix_small.shape}')\n",
    "interaction_matrix_filtered = interaction_matrix_small.copy()\n",
    "\n",
    "continue_filtering = True\n",
    "while continue_filtering:\n",
    "    #keep only news clicked by min 5 users\n",
    "    cols_to_keep = interaction_matrix_filtered.columns[interaction_matrix_filtered.sum(axis=0) >= 15]\n",
    "    interaction_matrix_filtered = interaction_matrix_filtered[cols_to_keep]\n",
    "    \n",
    "    #keep only users that clicked min 5 news\n",
    "    rows_to_keep = interaction_matrix_filtered.index[interaction_matrix_filtered.sum(axis=1) >= 15]\n",
    "    interaction_matrix_filtered = interaction_matrix_filtered.loc[rows_to_keep]\n",
    "    \n",
    "    #stop criteria\n",
    "    min_int_per_user = interaction_matrix_filtered.sum(axis=1).min()\n",
    "    min_int_per_news = interaction_matrix_filtered.sum(axis=0).min()\n",
    "    if min_int_per_user >= 15 and min_int_per_news >= 15:\n",
    "        continue_filtering = False\n"
   ]
  },
  {
   "cell_type": "code",
   "execution_count": 3,
   "metadata": {},
   "outputs": [
    {
     "name": "stdout",
     "output_type": "stream",
     "text": [
      "interaction_matrix after: (22093, 8858)\n",
      "min int per user: 15\n",
      "min int per news: 15\n",
      "max int per user: 463\n",
      "max int per news: 3254\n"
     ]
    }
   ],
   "source": [
    "#sanity check\n",
    "interaction_matrix_filtered = load_npz('binary_interaction_matrix_15.npz')\n",
    "print(f'interaction_matrix after: {interaction_matrix_filtered.shape}')\n",
    "print(\"min int per user:\", interaction_matrix_filtered.sum(axis=1).min())\n",
    "print(\"min int per news:\", interaction_matrix_filtered.sum(axis=0).min())\n",
    "print(\"max int per user:\", interaction_matrix_filtered.sum(axis=1).max())\n",
    "print(\"max int per news:\", interaction_matrix_filtered.sum(axis=0).max())"
   ]
  },
  {
   "cell_type": "code",
   "execution_count": null,
   "metadata": {},
   "outputs": [],
   "source": [
    "#all good let's save it\n",
    "interaction_matrix_csr = csr_matrix(interaction_matrix_filtered.values)\n",
    "print(interaction_matrix_csr.shape)\n",
    "#save_npz('binary_interaction_matrix.npz', interaction_matrix_csr)"
   ]
  },
  {
   "attachments": {},
   "cell_type": "markdown",
   "metadata": {},
   "source": [
    "# N of clicks"
   ]
  },
  {
   "cell_type": "code",
   "execution_count": null,
   "metadata": {},
   "outputs": [],
   "source": [
    "#initialize the  interaction matrix\n",
    "interaction_matrix = pd.DataFrame(0, index=behavior['User ID'].unique(), columns=news['News ID'].unique(), dtype='int16') #max fill value is 310 (b4 normalization)\n",
    "#populate matrix with implicit interactions\n",
    "for index, row in behavior.iterrows():\n",
    "    user_id = row[\"User ID\"]\n",
    "   \n",
    "    if pd.notnull(row[\"History\"]):              #w/ user history\n",
    "        history_news_ids = row[\"History\"].split()\n",
    "        for news_id in history_news_ids:\n",
    "            if news_id in interaction_matrix.columns:\n",
    "                interaction_matrix.at[user_id, news_id] += 1           \n",
    "    \n",
    "    if pd.notnull(row[\"Impressions\"]):          #w/ user impression\n",
    "        impressions = row[\"Impressions\"].split()\n",
    "        for impression in impressions:\n",
    "            news_id, clicked = impression.split('-')\n",
    "            if news_id in interaction_matrix.columns and clicked == '1':  #MODIFY HERE: in case of ternary encoding (e.g. -1 for non-clicked)\n",
    "                interaction_matrix.at[user_id, news_id] += 1"
   ]
  },
  {
   "cell_type": "code",
   "execution_count": 26,
   "metadata": {},
   "outputs": [],
   "source": [
    "#bool mask\n",
    "interaction_matrix_boolean = interaction_matrix.applymap(lambda x: x > 0)\n",
    "\n",
    "continue_filtering = True\n",
    "while continue_filtering:\n",
    "    #keep only news clicked by min 5 users\n",
    "    cols_to_keep = interaction_matrix_boolean.sum(axis=0) >= 15\n",
    "    interaction_matrix_boolean = interaction_matrix_boolean.loc[:, cols_to_keep]\n",
    "\n",
    "    #keep only users that clicked min 5 news\n",
    "    rows_to_keep = interaction_matrix_boolean.sum(axis=1) >= 15\n",
    "    interaction_matrix_boolean = interaction_matrix_boolean.loc[rows_to_keep, :]\n",
    "\n",
    "    #stop criteria\n",
    "    min_int_per_user = interaction_matrix_boolean.sum(axis=1).min()\n",
    "    min_int_per_news = interaction_matrix_boolean.sum(axis=0).min()\n",
    "    if min_int_per_user < 15 or min_int_per_news < 15:\n",
    "        continue_filtering = True\n",
    "    else:\n",
    "        continue_filtering = False\n",
    "\n",
    "#filter with mask\n",
    "interaction_matrix_filtered = interaction_matrix.loc[interaction_matrix_boolean.index, interaction_matrix_boolean.columns]\n"
   ]
  },
  {
   "cell_type": "code",
   "execution_count": null,
   "metadata": {},
   "outputs": [],
   "source": [
    "interaction_matrix_filtered = load_npz('n_click_interaction_matrix_15.npz')\n",
    "print(\"min int per user:\", (interaction_matrix_filtered > 0).sum(axis=1).min())\n",
    "print(\"min int per news:\", (interaction_matrix_filtered > 0).sum(axis=0).min())\n",
    "print(\"max int per user:\", interaction_matrix_filtered.sum(axis=1).max())\n",
    "print(\"max int per news:\", interaction_matrix_filtered.sum(axis=0).max())\n",
    "print('after:', interaction_matrix_filtered.shape)"
   ]
  },
  {
   "cell_type": "code",
   "execution_count": 30,
   "metadata": {},
   "outputs": [
    {
     "name": "stdout",
     "output_type": "stream",
     "text": [
      "(46594, 15471)\n"
     ]
    }
   ],
   "source": [
    "interaction_matrix_csr = csr_matrix(interaction_matrix_filtered.values)\n",
    "print(interaction_matrix_csr.shape)\n",
    "#save_npz('n_click_interaction_matrix.npz', interaction_matrix_csr)"
   ]
  },
  {
   "attachments": {},
   "cell_type": "markdown",
   "metadata": {},
   "source": [
    "**NORMALIZATION**"
   ]
  },
  {
   "attachments": {},
   "cell_type": "markdown",
   "metadata": {},
   "source": [
    "long tail distrib: most news receive only a few clicks, very small number receive many clicks.---> Log scaling (add+1 so no prob with zero clicks) + normalization (so can handle e.g. svm and knn)<br><br>\n",
    "*minmax & z-score give the same plot just different range on x values (?)---->problematic bc no interaction = 0*<br>\n",
    "MaxAbsScaler preferred with sparse data\n"
   ]
  },
  {
   "cell_type": "code",
   "execution_count": 20,
   "metadata": {},
   "outputs": [
    {
     "data": {
      "image/png": "[encoded data removed]",
      "text/plain": [
       "<Figure size 432x288 with 1 Axes>"
      ]
     },
     "metadata": {
      "needs_background": "light"
     },
     "output_type": "display_data"
    }
   ],
   "source": [
    "#normalize data\n",
    "nclick_interaction_matrix = load_npz('n_click_interaction_matrix_15.npz')\n",
    "nclick_interaction_matrix = MaxAbsScaler().fit_transform(nclick_interaction_matrix)\n",
    "#plot\n",
    "non_zero_clicks = nclick_interaction_matrix.data \n",
    "plt.hist(non_zero_clicks, bins=50, log=True) #visualize tail too\n",
    "plt.title('Distribution of Clicks')\n",
    "plt.xlabel('Click Values')\n",
    "plt.ylabel('Frequency (log scale)')\n",
    "plt.grid(True)\n",
    "plt.show()"
   ]
  },
  {
   "cell_type": "code",
   "execution_count": 21,
   "metadata": {},
   "outputs": [],
   "source": [
    "#save normalized data\n",
    "save_npz('n_click_interaction_matrix_15.npz', nclick_interaction_matrix)\n"
   ]
  },
  {
   "attachments": {},
   "cell_type": "markdown",
   "metadata": {},
   "source": [
    "<h1 style=\"color:rgb(0,120,170)\">Train/Test split</h1>\n",
    "\n",
    "------------------------------------------------------\n",
    "\n",
    "<a id=\"Split\"></a>\n",
    "stratified split ensure both train and test have instance for the same users: imp bc avoid cold start problem"
   ]
  },
  {
   "cell_type": "code",
   "execution_count": 25,
   "metadata": {},
   "outputs": [],
   "source": [
    "bin_interaction_matrix_csr = load_npz('binary_interaction_matrix_15.npz')\n",
    "n_interaction_martrix_csr = load_npz('n_click_interaction_matrix_15.npz')\n",
    "assert np.array_equal(bin_interaction_matrix_csr.shape, n_interaction_martrix_csr.shape), \"shape mismatch!!\""
   ]
  },
  {
   "attachments": {},
   "cell_type": "markdown",
   "metadata": {},
   "source": [
    "## BINARY"
   ]
  },
  {
   "cell_type": "code",
   "execution_count": 50,
   "metadata": {},
   "outputs": [],
   "source": [
    "#BINARY\n",
    "users, items = bin_interaction_matrix_csr.nonzero()\n",
    "interactions = list(zip(users, items))\n",
    "interactions_by_user = {}                   # {user: [item1, item2, ...]}\n",
    "for user, item in interactions:\n",
    "    if user not in interactions_by_user:\n",
    "        interactions_by_user[user] = []\n",
    "    interactions_by_user[user].append(item)\n",
    "\n",
    "\n",
    "def stratified_train_test_split(interactions_by_user, test_size=0.2):\n",
    "    train_interactions = []\n",
    "    test_interactions = []\n",
    "\n",
    "    for user, items in interactions_by_user.items():\n",
    "        np.random.shuffle(items)\n",
    "        n_test = max(int(len(items) * test_size), 1)  # at least 1 item for the test set\n",
    "        n_train = len(items) - n_test\n",
    "\n",
    "        items_train = items[:n_train]\n",
    "        items_test = items[n_train:]\n",
    "\n",
    "        train_interactions.extend([(user, item) for item in items_train])\n",
    "        test_interactions.extend([(user, item) for item in items_test])\n",
    "\n",
    "    return train_interactions, test_interactions\n",
    "\n",
    "\n",
    "def create_sparse_matrix(interactions, shape):\n",
    "    row, col = zip(*interactions)\n",
    "    data = np.ones(len(interactions))\n",
    "    return coo_matrix((data, (row, col)), shape=shape)\n",
    "\n",
    "#split\n",
    "train_interactions, test_interactions = stratified_train_test_split(interactions_by_user, test_size=0.2)\n",
    "#put back into matrices\n",
    "train_matrix = create_sparse_matrix(train_interactions, bin_interaction_matrix_csr.shape)\n",
    "test_matrix = create_sparse_matrix(test_interactions, bin_interaction_matrix_csr.shape)\n",
    "train_matrix, test_matrix = train_matrix.tocsr() , test_matrix.tocsr()\n",
    "#looks good, save train and test matrices\n",
    "#save_npz('b_train_matrix.npz', train_matrix)\n",
    "#save_npz('b_test_matrix.npz', test_matrix)"
   ]
  },
  {
   "cell_type": "code",
   "execution_count": 27,
   "metadata": {},
   "outputs": [
    {
     "data": {
      "image/png": "[encoded data removed]",
      "text/plain": [
       "<Figure size 432x288 with 1 Axes>"
      ]
     },
     "metadata": {
      "needs_background": "light"
     },
     "output_type": "display_data"
    },
    {
     "data": {
      "image/png": "[encoded data removed]",
      "text/plain": [
       "<Figure size 432x288 with 1 Axes>"
      ]
     },
     "metadata": {
      "needs_background": "light"
     },
     "output_type": "display_data"
    },
    {
     "name": "stdout",
     "output_type": "stream",
     "text": [
      "Training set sparsity: 0.9965797153572885\n",
      "Test set sparsity: 0.9991980165293378\n"
     ]
    }
   ],
   "source": [
    "b_test_matrix = load_npz('b_test_matrix_15.npz')\n",
    "b_train_matrix = load_npz('b_train_matrix_15.npz')\n",
    "def plot_interactions_distribution(train_matrix, test_matrix):\n",
    "    \n",
    "    train_interactions_per_user = np.diff(train_matrix.indptr)\n",
    "    test_interactions_per_user = np.diff(test_matrix.indptr)\n",
    "\n",
    "    #train\n",
    "    plt.hist(train_interactions_per_user, bins=50, log=True)\n",
    "    plt.title('Training Set Interaction')\n",
    "    plt.xlabel('N of Interactions')\n",
    "    plt.ylabel('N of Users (log scale)')\n",
    "    plt.show()\n",
    "    #test\n",
    "    plt.hist(test_interactions_per_user, bins=50, log=True)\n",
    "    plt.title('Test Set Interaction')\n",
    "    plt.xlabel('N of Interactions')\n",
    "    plt.ylabel('N of Users (log scale)')\n",
    "    plt.show()\n",
    "\n",
    "#have a look at sparsity (should be very high)\n",
    "def calculate_sparsity(matrix):\n",
    "    total_possible_interactions = matrix.shape[0] * matrix.shape[1]\n",
    "    actual_interactions = len(matrix.nonzero()[0])\n",
    "    sparsity = 1 - (actual_interactions / total_possible_interactions)\n",
    "    return sparsity\n",
    "\n",
    "\n",
    "plot_interactions_distribution(b_train_matrix, b_test_matrix)\n",
    "train_sparsity = calculate_sparsity(b_train_matrix)\n",
    "test_sparsity = calculate_sparsity(b_test_matrix)\n",
    "print(\"Training set sparsity:\", train_sparsity)\n",
    "print(\"Test set sparsity:\", test_sparsity)\n"
   ]
  },
  {
   "attachments": {},
   "cell_type": "markdown",
   "metadata": {},
   "source": [
    "min=15 more sparse than min=5; very similar long tail distr-> expected"
   ]
  },
  {
   "attachments": {},
   "cell_type": "markdown",
   "metadata": {},
   "source": [
    "## N of clicks"
   ]
  },
  {
   "cell_type": "code",
   "execution_count": null,
   "metadata": {},
   "outputs": [],
   "source": [
    "#N OF CLICKS\n",
    "def create_train_test_sets_sparse(interaction_matrix, test_size=0.2):\n",
    "    num_users, num_items = interaction_matrix.shape\n",
    "    train_set = interaction_matrix.copy()\n",
    "    test_set = csr_matrix(interaction_matrix.shape, dtype=np.float16) #max fillvalue is 310\n",
    "    \n",
    "    for user_id in range(num_users):\n",
    "        user_interactions_indices = interaction_matrix[user_id].nonzero()[1]\n",
    "        \n",
    "        assert len(user_interactions_indices) > 0, f\"user {user_id} has no interactions!!!\"\n",
    "        \n",
    "        num_interactions = len(user_interactions_indices)\n",
    "        num_test = max(1, int(np.ceil(test_size * num_interactions)))\n",
    "        test_indices = np.random.choice(user_interactions_indices, size=num_test, replace=False)\n",
    "        \n",
    "        # Set values in test_set and remove those from train_set\n",
    "        test_values = interaction_matrix[user_id, test_indices].toarray()\n",
    "        test_set[user_id, test_indices] = test_values\n",
    "        train_set[user_id, test_indices] = 0\n",
    "    \n",
    "    return train_set, test_set\n",
    "\n",
    "\n",
    "train_set, test_set = create_train_test_sets_sparse(interaction_matrix)\n",
    "\n",
    "print(f\"train set: {train_set.shape}, non-zero elements: {train_set.nnz}\")\n",
    "print(f\"test set: {test_set.shape}, non-zero elements: {test_set.nnz}\")\n",
    "train_set, test_set = train_set.tocsr(), test_set.tocsr()\n",
    "save_npz('n_train_matrix_15.npz', train_set)\n",
    "save_npz('n_test_matrix_15.npz', test_set)\n"
   ]
  },
  {
   "cell_type": "code",
   "execution_count": 28,
   "metadata": {},
   "outputs": [
    {
     "data": {
      "image/png": "[encoded data removed]",
      "text/plain": [
       "<Figure size 432x288 with 1 Axes>"
      ]
     },
     "metadata": {
      "needs_background": "light"
     },
     "output_type": "display_data"
    },
    {
     "data": {
      "image/png": "[encoded data removed]",
      "text/plain": [
       "<Figure size 432x288 with 1 Axes>"
      ]
     },
     "metadata": {
      "needs_background": "light"
     },
     "output_type": "display_data"
    },
    {
     "name": "stdout",
     "output_type": "stream",
     "text": [
      "Training set sparsity: 0.9966668743657441\n",
      "Test set sparsity: 0.9991108575208822\n"
     ]
    }
   ],
   "source": [
    "n_train_matrix = load_npz('n_train_matrix_15.npz')\n",
    "n_test_matrix = load_npz('n_test_matrix_15.npz')\n",
    "def plot_interactions_distribution(train_matrix, test_matrix):\n",
    "    \n",
    "    train_interactions_per_user = np.diff(train_matrix.indptr)\n",
    "    test_interactions_per_user = np.diff(test_matrix.indptr)\n",
    "\n",
    "    #train\n",
    "    plt.hist(train_interactions_per_user, bins=50, log=True)\n",
    "    plt.title('Training Set Interaction')\n",
    "    plt.xlabel('N of Interactions')\n",
    "    plt.ylabel('N of Users (log scale)')\n",
    "    plt.show()\n",
    "    #test\n",
    "    plt.hist(test_interactions_per_user, bins=50, log=True)\n",
    "    plt.title('Test Set Interaction')\n",
    "    plt.xlabel('N of Interactions')\n",
    "    plt.ylabel('N of Users (log scale)')\n",
    "    plt.show()\n",
    "\n",
    "#have a look at sparsity (should be very high)\n",
    "def calculate_sparsity(matrix):\n",
    "    total_possible_interactions = matrix.shape[0] * matrix.shape[1]\n",
    "    actual_interactions = len(matrix.nonzero()[0])\n",
    "    sparsity = 1 - (actual_interactions / total_possible_interactions)\n",
    "    return sparsity\n",
    "\n",
    "\n",
    "plot_interactions_distribution(n_train_matrix, n_test_matrix)\n",
    "train_sparsity = calculate_sparsity(n_train_matrix)\n",
    "test_sparsity = calculate_sparsity(n_test_matrix)\n",
    "print(\"Training set sparsity:\", train_sparsity)\n",
    "print(\"Test set sparsity:\", test_sparsity)\n"
   ]
  },
  {
   "attachments": {},
   "cell_type": "markdown",
   "metadata": {},
   "source": [
    "---------check 4 data leakage-----------"
   ]
  },
  {
   "cell_type": "code",
   "execution_count": 29,
   "metadata": {},
   "outputs": [
    {
     "name": "stdout",
     "output_type": "stream",
     "text": [
      "All good!\n",
      "All good!\n"
     ]
    }
   ],
   "source": [
    "#small check if interaction matrices have data leakage via intersection of matrices\n",
    "b_train_matrix = load_npz('b_train_matrix_15.npz')\n",
    "b_test_matrix = load_npz('b_test_matrix_15.npz')\n",
    "n_train_matrix = load_npz('n_train_matrix_15.npz')\n",
    "n_test_matrix = load_npz('n_test_matrix_15.npz')\n",
    "\n",
    "def check_data_leakage(train_matrix: csr_matrix, test_matrix: csr_matrix):   \n",
    "    train_nonzero = set(zip(train_matrix.nonzero()[0], train_matrix.nonzero()[1])) #again in tuple form\n",
    "    test_nonzero = set(zip(test_matrix.nonzero()[0], test_matrix.nonzero()[1]))\n",
    "    common_elements = train_nonzero.intersection(test_nonzero)\n",
    "    if common_elements:\n",
    "        print(f\"Data leakage: {len(common_elements)} interactions are in both sets.\")\n",
    "    else:\n",
    "        print(\"All good!\")\n",
    "        \n",
    "b_data_leakage = check_data_leakage(b_train_matrix, b_test_matrix)\n",
    "n_data_leakage = check_data_leakage(n_train_matrix, n_test_matrix)\n"
   ]
  },
  {
   "attachments": {},
   "cell_type": "markdown",
   "metadata": {},
   "source": [
    "<h1 style=\"color:rgb(0,120,170)\">Evaluation</h1>\n",
    "\n",
    "------------------------------------------------------\n",
    "https://towardsdatascience.com/how-to-assess-recommender-systems-10afd6c1fae0 + slides lud <br>\n",
    "[SOTA](https://paperswithcode.com/sota/news-recommendation-on-mind) : AUC, MMR, nDCG@5 & @10<br>\n",
    "<a id=\"Evaluation\"></a>"
   ]
  },
  {
   "attachments": {},
   "cell_type": "markdown",
   "metadata": {},
   "source": [
    "## k=10"
   ]
  },
  {
   "cell_type": "code",
   "execution_count": 2,
   "metadata": {},
   "outputs": [],
   "source": [
    "b_train_matrix = load_npz('b_train_matrix_15.npz')\n",
    "b_test_matrix = load_npz('b_test_matrix_15.npz')\n",
    "n_train_matrix = load_npz('n_train_matrix_15.npz')\n",
    "n_test_matrix = load_npz('n_test_matrix_15.npz')"
   ]
  },
  {
   "cell_type": "code",
   "execution_count": 3,
   "metadata": {},
   "outputs": [
    {
     "data": {
      "text/html": [
       "<div>\n",
       "<style scoped>\n",
       "    .dataframe tbody tr th:only-of-type {\n",
       "        vertical-align: middle;\n",
       "    }\n",
       "\n",
       "    .dataframe tbody tr th {\n",
       "        vertical-align: top;\n",
       "    }\n",
       "\n",
       "    .dataframe thead th {\n",
       "        text-align: right;\n",
       "    }\n",
       "</style>\n",
       "<table border=\"1\" class=\"dataframe\">\n",
       "  <thead>\n",
       "    <tr style=\"text-align: right;\">\n",
       "      <th></th>\n",
       "      <th>RecFunction</th>\n",
       "      <th>Precision@k</th>\n",
       "      <th>Recall@k</th>\n",
       "      <th>NDCG@k</th>\n",
       "      <th>F1@k</th>\n",
       "    </tr>\n",
       "  </thead>\n",
       "  <tbody>\n",
       "    <tr>\n",
       "      <th>0</th>\n",
       "      <td>pop_baseline</td>\n",
       "      <td>0.022835</td>\n",
       "      <td>0.035724</td>\n",
       "      <td>0.099777</td>\n",
       "      <td>0.025233</td>\n",
       "    </tr>\n",
       "    <tr>\n",
       "      <th>1</th>\n",
       "      <td>item_based_rs</td>\n",
       "      <td>0.034744</td>\n",
       "      <td>0.055601</td>\n",
       "      <td>0.152638</td>\n",
       "      <td>0.038909</td>\n",
       "    </tr>\n",
       "    <tr>\n",
       "      <th>2</th>\n",
       "      <td>knn_item_based_rs</td>\n",
       "      <td>0.031965</td>\n",
       "      <td>0.048266</td>\n",
       "      <td>0.141136</td>\n",
       "      <td>0.034860</td>\n",
       "    </tr>\n",
       "  </tbody>\n",
       "</table>\n",
       "</div>"
      ],
      "text/plain": [
       "         RecFunction  Precision@k  Recall@k    NDCG@k      F1@k\n",
       "0       pop_baseline     0.022835  0.035724  0.099777  0.025233\n",
       "1      item_based_rs     0.034744  0.055601  0.152638  0.038909\n",
       "2  knn_item_based_rs     0.031965  0.048266  0.141136  0.034860"
      ]
     },
     "execution_count": 3,
     "metadata": {},
     "output_type": "execute_result"
    }
   ],
   "source": [
    "#BINARY based\n",
    "rec_functions = [rs.pop_baseline, rs.item_based_rs, rs.knn_item_based_rs]              #list of recommendation functions\n",
    "results_table = evals.evaluate(b_train_matrix, b_test_matrix, rec_functions, k=10)\n",
    "results_table #502m"
   ]
  },
  {
   "cell_type": "code",
   "execution_count": null,
   "metadata": {},
   "outputs": [],
   "source": [
    "#N OF CLICKS based\n",
    "rec_functions = [rs.pop_baseline, rs.item_based_rs, rs.knn_item_based_rs]               #list of recommendation functions\n",
    "results_table = evals.evaluate(n_train_matrix, n_test_matrix, rec_functions, k=10)\n",
    "results_table"
   ]
  }
 ],
 "metadata": {
  "kernelspec": {
   "display_name": "Python 3",
   "language": "python",
   "name": "python3"
  },
  "language_info": {
   "codemirror_mode": {
    "name": "ipython",
    "version": 3
   },
   "file_extension": ".py",
   "mimetype": "text/x-python",
   "name": "python",
   "nbconvert_exporter": "python",
   "pygments_lexer": "ipython3",
   "version": "3.9.12"
  },
  "orig_nbformat": 4
 },
 "nbformat": 4,
 "nbformat_minor": 2
}
